{
 "cells": [
  {
   "cell_type": "code",
   "execution_count": 11,
   "metadata": {},
   "outputs": [],
   "source": [
    "# open file csv and read\n",
    "import csv\n",
    "import os\n",
    "import sys\n",
    "\n",
    "def read_csv(file):\n",
    "    with open(file, newline='') as csvfile:\n",
    "        reader = csv.reader(csvfile)\n",
    "        rows = list(reader)\n",
    "\n",
    "        years = []\n",
    "        for row in rows:\n",
    "            # print(row[43])\n",
    "            if row[3] not in years:\n",
    "                years.append(row[3])\n",
    "        years = years[1:]\n",
    "        print(years)\n",
    "\n",
    "        # count the total money of each year\n",
    "        total = {}\n",
    "        for row in rows:\n",
    "            if row[3] not in total:\n",
    "                total[row[3]] = 0\n",
    "            try:\n",
    "                total[row[3]] += float(row[43])\n",
    "            except ValueError:\n",
    "                print(f\"Could not convert '{row[43]}' to float.\")\n",
    "                continue\n",
    "\n",
    "    return total\n",
    "\n"
   ]
  },
  {
   "cell_type": "code",
   "execution_count": 12,
   "metadata": {},
   "outputs": [
    {
     "name": "stdout",
     "output_type": "stream",
     "text": [
      "['2000', '2002', '2001']\n",
      "Could not convert 'PrimaryValue' to float.\n",
      "RefYear: 0\n",
      "2000: 155000.0\n",
      "2002: 207932.0\n",
      "2001: 123143.0\n",
      "['2003', '2006', '2005', '2007', '2004']\n",
      "Could not convert 'PrimaryValue' to float.\n",
      "RefYear: 0\n",
      "2003: 101224.0\n",
      "2006: 468617.0\n",
      "2005: 574234.0\n",
      "2007: 521184.0\n",
      "2004: 1065627.0\n",
      "['2011', '2010', '2009', '2008', '2012']\n",
      "Could not convert 'PrimaryValue' to float.\n",
      "RefYear: 0\n",
      "2011: 3116647.0\n",
      "2010: 3853325.0\n",
      "2009: 2915089.0\n",
      "2008: 1639510.0\n",
      "2012: 2949061.0\n",
      "['2015', '2013', '2014', '2016', '2017']\n",
      "Could not convert 'PrimaryValue' to float.\n",
      "RefYear: 0\n",
      "2015: 2212175.0\n",
      "2013: 3482534.0\n",
      "2014: 3065568.0\n",
      "2016: 1952786.4\n",
      "2017: 3144460.8\n",
      "['2021', '2020', '2019', '2022', '2018']\n",
      "Could not convert 'PrimaryValue' to float.\n",
      "RefYear: 0\n",
      "2021: 1882252.2\n",
      "2020: 2062402.91\n",
      "2019: 1777269.09\n",
      "2022: 489329.5\n",
      "2018: 2258529.7199999997\n"
     ]
    }
   ],
   "source": [
    "folder = \"dataset\"\n",
    "\n",
    "for file in os.listdir(folder):\n",
    "    if file.endswith(\".csv\"):\n",
    "        file_name = folder + \"/\" + file\n",
    "        data = read_csv(file_name)\n",
    "        for key, value in data.items():\n",
    "            print(f\"{key}: {value}\")\n",
    "\n",
    "        # export to txt file for each csv file in the resluts folder\n",
    "        # results_folder = folder - \"dataset\" + \"results\"\n",
    "        results_folder = folder.replace(\"dataset\", \"results\")\n",
    "\n",
    "        with open(f\"{results_folder}/{file}.txt\", \"w\") as file:\n",
    "            for key, value in data.items():\n",
    "                file.write(f\"{key}: {value}\\n\")\n"
   ]
  }
 ],
 "metadata": {
  "kernelspec": {
   "display_name": "Python 3",
   "language": "python",
   "name": "python3"
  },
  "language_info": {
   "codemirror_mode": {
    "name": "ipython",
    "version": 3
   },
   "file_extension": ".py",
   "mimetype": "text/x-python",
   "name": "python",
   "nbconvert_exporter": "python",
   "pygments_lexer": "ipython3",
   "version": "3.9.2"
  }
 },
 "nbformat": 4,
 "nbformat_minor": 2
}
